{
 "cells": [
  {
   "cell_type": "code",
   "execution_count": 1,
   "id": "efa19b7f-8adb-406d-becd-a16feba52622",
   "metadata": {},
   "outputs": [
    {
     "name": "stdout",
     "output_type": "stream",
     "text": [
      "Requirement already satisfied: pandas in /opt/conda/lib/python3.10/site-packages (1.5.2)\n",
      "Requirement already satisfied: python-dateutil>=2.8.1 in /opt/conda/lib/python3.10/site-packages (from pandas) (2.8.2)\n",
      "Requirement already satisfied: pytz>=2020.1 in /opt/conda/lib/python3.10/site-packages (from pandas) (2022.6)\n",
      "Requirement already satisfied: numpy>=1.21.0 in /opt/conda/lib/python3.10/site-packages (from pandas) (1.23.5)\n",
      "Requirement already satisfied: six>=1.5 in /opt/conda/lib/python3.10/site-packages (from python-dateutil>=2.8.1->pandas) (1.16.0)\n",
      "Note: you may need to restart the kernel to use updated packages.\n"
     ]
    }
   ],
   "source": [
    "pip install pandas"
   ]
  },
  {
   "cell_type": "code",
   "execution_count": 6,
   "id": "b280dcb8-f216-464f-b1d8-5d159413dc1d",
   "metadata": {},
   "outputs": [
    {
     "data": {
      "text/plain": [
       "0     4\n",
       "1     8\n",
       "2    15\n",
       "3    16\n",
       "4    23\n",
       "5    42\n",
       "dtype: int64"
      ]
     },
     "execution_count": 6,
     "metadata": {},
     "output_type": "execute_result"
    }
   ],
   "source": [
    "import pandas as pd\n",
    "\n",
    "#syntax: a = pd.Series([data in list format])\n",
    "s1 = pd.Series([4, 8, 15, 16, 23, 42])\n",
    "s1"
   ]
  },
  {
   "cell_type": "code",
   "execution_count": 7,
   "id": "ecf672ae-23b3-4543-89ef-b22aa60d092a",
   "metadata": {},
   "outputs": [
    {
     "data": {
      "text/plain": [
       "list"
      ]
     },
     "execution_count": 7,
     "metadata": {},
     "output_type": "execute_result"
    }
   ],
   "source": [
    "v1 = [19, 31, 7, 0, 6, 4, 24, 5, 12, 38]\n",
    "type(v1)"
   ]
  },
  {
   "cell_type": "code",
   "execution_count": 8,
   "id": "4a63a206-d02a-4b38-8181-f2f5dc042120",
   "metadata": {},
   "outputs": [
    {
     "name": "stdout",
     "output_type": "stream",
     "text": [
      "0    19\n",
      "1    31\n",
      "2     7\n",
      "3     0\n",
      "4     6\n",
      "5     4\n",
      "6    24\n",
      "7     5\n",
      "8    12\n",
      "9    38\n",
      "dtype: int64\n"
     ]
    }
   ],
   "source": [
    "#v1 of type list containig 10 elements is passed to pd.series\n",
    "s2 = pd.Series(v1)\n",
    "print(s2)"
   ]
  },
  {
   "cell_type": "code",
   "execution_count": 13,
   "id": "0ff6720c-c4dd-485a-ac03-8b5b78c1d77b",
   "metadata": {},
   "outputs": [
    {
     "name": "stdout",
     "output_type": "stream",
     "text": [
      "     Name  Age Gender\n",
      "0   Alice   25      F\n",
      "1     Bob   30      M\n",
      "2  Claire   27      F\n"
     ]
    }
   ],
   "source": [
    "data = { \n",
    "    \"Name\": [\"Alice\", \"Bob\", \"Claire\"],\n",
    "    \"Age\": [25, 30, 27],\n",
    "    \"Gender\": [\"F\", \"M\", \"F\"]\n",
    "}\n",
    "\n",
    "df1 = pd.DataFrame(data)\n",
    "print(df1)"
   ]
  },
  {
   "cell_type": "markdown",
   "id": "70f2faac-b79a-4656-9ab8-03bdaf13f92f",
   "metadata": {},
   "source": [
    "## DataFrame is a 2d array data structure, that supports heterogenous data types where as series is indexed 1d array with homogenous data type\n",
    "\n",
    "##  In Panel Data and size are mutable."
   ]
  },
  {
   "cell_type": "code",
   "execution_count": 16,
   "id": "96de7342-3de6-4d8b-9533-2c9259082adb",
   "metadata": {},
   "outputs": [
    {
     "data": {
      "text/plain": [
       "0     4\n",
       "1     8\n",
       "2    15\n",
       "3    16\n",
       "4    23\n",
       "5    42\n",
       "0    19\n",
       "1    31\n",
       "2     7\n",
       "3     0\n",
       "4     6\n",
       "5     4\n",
       "6    24\n",
       "7     5\n",
       "8    12\n",
       "9    38\n",
       "dtype: int64"
      ]
     },
     "execution_count": 16,
     "metadata": {},
     "output_type": "execute_result"
    }
   ],
   "source": [
    "# we merge s1 and s2 to create a dataframe\n",
    "df=pd.concat([s1, s2])\n",
    "df"
   ]
  },
  {
   "cell_type": "code",
   "execution_count": 17,
   "id": "1d19bddb-25bb-46b3-a3df-ba2d08c69a0c",
   "metadata": {},
   "outputs": [
    {
     "ename": "SyntaxError",
     "evalue": "invalid syntax (2830201818.py, line 1)",
     "output_type": "error",
     "traceback": [
      "\u001b[0;36m  Cell \u001b[0;32mIn[17], line 1\u001b[0;36m\u001b[0m\n\u001b[0;31m    git init\u001b[0m\n\u001b[0m        ^\u001b[0m\n\u001b[0;31mSyntaxError\u001b[0m\u001b[0;31m:\u001b[0m invalid syntax\n"
     ]
    }
   ],
   "source": [
    "git init"
   ]
  },
  {
   "cell_type": "code",
   "execution_count": null,
   "id": "49b45cbb-cb9e-4381-975e-e21c34765fec",
   "metadata": {},
   "outputs": [],
   "source": []
  }
 ],
 "metadata": {
  "kernelspec": {
   "display_name": "Python 3 (ipykernel)",
   "language": "python",
   "name": "python3"
  },
  "language_info": {
   "codemirror_mode": {
    "name": "ipython",
    "version": 3
   },
   "file_extension": ".py",
   "mimetype": "text/x-python",
   "name": "python",
   "nbconvert_exporter": "python",
   "pygments_lexer": "ipython3",
   "version": "3.10.8"
  }
 },
 "nbformat": 4,
 "nbformat_minor": 5
}
