{
 "cells": [
  {
   "cell_type": "markdown",
   "id": "5359ba4a-43b8-4c13-b5e7-8de6b6b9303c",
   "metadata": {},
   "source": [
    "# Assignment 03\n",
    "## functions\n",
    "     * lambda\n",
    "     * map\n",
    "     * reduce\n",
    "     * filter"
   ]
  },
  {
   "cell_type": "code",
   "execution_count": 2,
   "id": "4c107f1d-86dc-4654-ab98-4fa753cf7f15",
   "metadata": {},
   "outputs": [
    {
     "data": {
      "text/plain": [
       "[('Sachin Tendulkar', 34357),\n",
       " ('Ricky Ponting', 27483),\n",
       " ('Jack Kallis', 25534),\n",
       " ('Virat Kohli', 24936)]"
      ]
     },
     "execution_count": 2,
     "metadata": {},
     "output_type": "execute_result"
    }
   ],
   "source": [
    "# Q.1\n",
    "#sorting a list of tuples using lambda\n",
    "\n",
    "a = [('Sachin Tendulkar', 34357), ('Ricky Ponting', 27483), ('Jack Kallis', 25534), ('Virat Kohli', 24936)]\n",
    "b = sorted(a, key = lambda x: x[1], reverse = True )\n",
    "b"
   ]
  },
  {
   "cell_type": "code",
   "execution_count": 4,
   "id": "6cfd7413-f996-471c-a0c1-41d3d3529f93",
   "metadata": {},
   "outputs": [
    {
     "data": {
      "text/plain": [
       "[1, 4, 9, 16, 25, 36, 49, 64, 81, 100]"
      ]
     },
     "execution_count": 4,
     "metadata": {},
     "output_type": "execute_result"
    }
   ],
   "source": [
    "# Q.2 \n",
    "lst = [1, 2, 3, 4, 5, 6, 7, 8, 9, 10]   \n",
    "\n",
    "def sq(x):\n",
    "    return x**2\n",
    "\n",
    "list(map(sq, lst))"
   ]
  },
  {
   "cell_type": "code",
   "execution_count": 6,
   "id": "18ce9fe8-cf31-490b-a1a4-6a5204f89f96",
   "metadata": {},
   "outputs": [
    {
     "data": {
      "text/plain": [
       "[1, 4, 9, 16, 25, 36, 49, 64, 81, 100]"
      ]
     },
     "execution_count": 6,
     "metadata": {},
     "output_type": "execute_result"
    }
   ],
   "source": [
    "list(map(lambda x: x**2, lst))"
   ]
  },
  {
   "cell_type": "code",
   "execution_count": 15,
   "id": "9e2190f8-c26a-47e6-97b5-36ffec8ae209",
   "metadata": {},
   "outputs": [
    {
     "data": {
      "text/plain": [
       "('1', '2', '3', '4', '5', '6', '7', '8', '9', '10')"
      ]
     },
     "execution_count": 15,
     "metadata": {},
     "output_type": "execute_result"
    }
   ],
   "source": [
    "# Q.3\n",
    "# list of integers into tuple of strings\n",
    "c = [1, 2, 3, 4, 5, 6, 7, 8, 9, 10]\n",
    "tuple(map(lambda x: str(x), c))\n",
    "\n"
   ]
  },
  {
   "cell_type": "code",
   "execution_count": 33,
   "id": "b86a022a-a844-44ef-a9dd-35f0215a7f23",
   "metadata": {},
   "outputs": [],
   "source": [
    "# Q.4\n",
    "def createList(r1, r2):\n",
    "    return list(range(r1, r2+1))\n",
    "\n",
    "a = createList(1, 25)\n"
   ]
  },
  {
   "cell_type": "code",
   "execution_count": 34,
   "id": "d5247700-6a43-4eaa-9a33-add31cbfb925",
   "metadata": {},
   "outputs": [
    {
     "data": {
      "text/plain": [
       "15511210043330985984000000"
      ]
     },
     "execution_count": 34,
     "metadata": {},
     "output_type": "execute_result"
    }
   ],
   "source": [
    "from functools import reduce\n",
    "reduce(lambda x, y: x*y, a )"
   ]
  },
  {
   "cell_type": "code",
   "execution_count": 35,
   "id": "0ce0457a-18ea-4109-bc54-a08e624f925a",
   "metadata": {},
   "outputs": [
    {
     "data": {
      "text/plain": [
       "[2, 3, 6, 9, 27, 60, 90, 120, 46]"
      ]
     },
     "execution_count": 35,
     "metadata": {},
     "output_type": "execute_result"
    }
   ],
   "source": [
    "# Q.5\n",
    "b = [2, 3, 6, 9, 27, 60, 90, 120, 55, 46]\n",
    "list(filter(lambda x: x%2 == 0 or x%3 == 0, b))"
   ]
  },
  {
   "cell_type": "code",
   "execution_count": 47,
   "id": "628be6e6-dc37-4294-8460-55094b6e2ff3",
   "metadata": {},
   "outputs": [
    {
     "data": {
      "text/plain": [
       "['php', 'aba', 'radar', 'level']"
      ]
     },
     "execution_count": 47,
     "metadata": {},
     "output_type": "execute_result"
    }
   ],
   "source": [
    "# Q.6\n",
    "a = ['python', 'php', 'aba', 'radar', 'level', 'hell']\n",
    "#pal_check = lambda x: x == reversed(x)\n",
    "list(filter(lambda x: x == x[::-1], a))"
   ]
  },
  {
   "cell_type": "code",
   "execution_count": null,
   "id": "4df0396b-4f1f-4d8c-af8b-f25476475b27",
   "metadata": {},
   "outputs": [],
   "source": []
  }
 ],
 "metadata": {
  "kernelspec": {
   "display_name": "Python 3 (ipykernel)",
   "language": "python",
   "name": "python3"
  },
  "language_info": {
   "codemirror_mode": {
    "name": "ipython",
    "version": 3
   },
   "file_extension": ".py",
   "mimetype": "text/x-python",
   "name": "python",
   "nbconvert_exporter": "python",
   "pygments_lexer": "ipython3",
   "version": "3.10.8"
  }
 },
 "nbformat": 4,
 "nbformat_minor": 5
}
