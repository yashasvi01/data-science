{
 "cells": [
  {
   "cell_type": "markdown",
   "id": "ff0c22ef-e197-4eee-8576-d036ee666c9d",
   "metadata": {},
   "source": [
    "# Assignment 02\n",
    "\n",
    "FUNCTIONS"
   ]
  },
  {
   "cell_type": "code",
   "execution_count": 4,
   "id": "bff419a9-c9ca-4194-a0b0-01793f8aa8d8",
   "metadata": {},
   "outputs": [],
   "source": [
    "# Q.1\n",
    "# \"def\" keyword is used to create a function\n",
    "# function to return odd numbers from 1 to 25\n",
    "\n",
    "\n",
    "def find_odds():\n",
    "    lst = []\n",
    "    for i in range(26):\n",
    "        if i%2 != 0:\n",
    "            lst.append(i)\n",
    "    return lst            \n",
    "         "
   ]
  },
  {
   "cell_type": "code",
   "execution_count": 5,
   "id": "182725b3-d7b8-4b9b-af0f-87db9e912526",
   "metadata": {},
   "outputs": [
    {
     "data": {
      "text/plain": [
       "[1, 3, 5, 7, 9, 11, 13, 15, 17, 19, 21, 23, 25]"
      ]
     },
     "execution_count": 5,
     "metadata": {},
     "output_type": "execute_result"
    }
   ],
   "source": [
    "find_odds()"
   ]
  },
  {
   "cell_type": "code",
   "execution_count": 17,
   "id": "a8e2717d-96ba-430b-bf60-ffeb28adf383",
   "metadata": {},
   "outputs": [],
   "source": [
    "# Q.2\n",
    "# \"*args\" is special syntax that is used to accept variable number of arguments\n",
    "#         that is when we are not sure what length the input could be of\n",
    "#         eg: a function to multiply the numbers\n",
    "\n",
    "def find_product(*args):\n",
    "    c = 1\n",
    "    for i in args:\n",
    "        c *= i\n",
    "    return c    "
   ]
  },
  {
   "cell_type": "code",
   "execution_count": 21,
   "id": "9dadacb6-e748-45ac-bc59-1635ae82c74c",
   "metadata": {},
   "outputs": [
    {
     "data": {
      "text/plain": [
       "20000000000000000"
      ]
     },
     "execution_count": 21,
     "metadata": {},
     "output_type": "execute_result"
    }
   ],
   "source": [
    "find_product(2, 10,100,1000, 10000,1000000)"
   ]
  },
  {
   "cell_type": "code",
   "execution_count": 25,
   "id": "1c97fe50-d986-4f0d-a43b-65221104accc",
   "metadata": {},
   "outputs": [
    {
     "data": {
      "text/plain": [
       "{'a': 3, 'b': 'ok', 'c': (1, 2, 3), 'd': [99, True], 'e': 1.3333}"
      ]
     },
     "execution_count": 25,
     "metadata": {},
     "output_type": "execute_result"
    }
   ],
   "source": [
    "# \" **kwargs \" is used to enter a keyworded argument of any length in a program\n",
    "def fun1(**kwargs):\n",
    "    return kwargs\n",
    "\n",
    "fun1(a=3, b= \"ok\", c = (1,2,3), d = [99, True], e = 1.3333)\n"
   ]
  },
  {
   "cell_type": "code",
   "execution_count": 31,
   "id": "38db5ee4-2f89-465e-9b69-9513ff6eddc7",
   "metadata": {},
   "outputs": [
    {
     "name": "stdout",
     "output_type": "stream",
     "text": [
      "H\n",
      "i\n",
      " \n",
      "!\n"
     ]
    }
   ],
   "source": [
    "# Q.3\n",
    "# Iterator is an object that is used to iterate over iterable objects like lists, tuples, dicts, and sets\n",
    "# for initialization, we use iter(), and to iterate further we use next()\n",
    "\n",
    "#example\n",
    "a = \"Hi !\"\n",
    "my_iterator = iter(a)\n",
    "\n",
    "print(next(my_iterator))\n",
    "print(next(my_iterator))\n",
    "print(next(my_iterator))\n",
    "print(next(my_iterator))"
   ]
  },
  {
   "cell_type": "code",
   "execution_count": 33,
   "id": "da341490-5507-4e3c-b737-b87ae05a4f8f",
   "metadata": {},
   "outputs": [
    {
     "name": "stdout",
     "output_type": "stream",
     "text": [
      "2\n",
      "4\n",
      "6\n",
      "8\n",
      "10\n"
     ]
    }
   ],
   "source": [
    "#print first five elements\n",
    "\n",
    "lst = [2, 4, 6, 8, 10, 12, 14, 16, 18, 20]\n",
    "\n",
    "my_iterator = iter(lst)\n",
    "\n",
    "print(next(my_iterator))\n",
    "print(next(my_iterator))\n",
    "print(next(my_iterator))\n",
    "print(next(my_iterator))\n",
    "print(next(my_iterator))"
   ]
  },
  {
   "cell_type": "code",
   "execution_count": 35,
   "id": "d55988ac-4637-4201-8c0b-b9cdaa42e287",
   "metadata": {},
   "outputs": [
    {
     "name": "stdin",
     "output_type": "stream",
     "text": [
      "Enter a number:  7\n"
     ]
    },
    {
     "name": "stdout",
     "output_type": "stream",
     "text": [
      "0\n",
      "1\n",
      "1\n",
      "2\n",
      "3\n",
      "5\n",
      "8\n"
     ]
    }
   ],
   "source": [
    "# Q.4\n",
    "# GENERATOR FUNCTIONS, is a special type of function which does not return a single value\n",
    "# it returns an iterator object with a sequence of values\n",
    "# generator functions are better alternative than to store whole of data in memory\n",
    "\n",
    "#generator function to generate fibonacci series \n",
    "n = int(input(\"Enter a number: \"))\n",
    "\n",
    "def fib(n):\n",
    "    a, b = 0, 1\n",
    "    for i in range(n):\n",
    "        yield a\n",
    "        a, b = b, a+b\n",
    "\n",
    "for i in fib(n):\n",
    "    print(i)      "
   ]
  },
  {
   "cell_type": "code",
   "execution_count": 14,
   "id": "08369ac7-849a-40cc-a0e7-8f71b13df5e7",
   "metadata": {},
   "outputs": [
    {
     "name": "stdin",
     "output_type": "stream",
     "text": [
      "number:  9\n"
     ]
    },
    {
     "name": "stdout",
     "output_type": "stream",
     "text": [
      "9\n"
     ]
    }
   ],
   "source": [
    "# Q.5\n",
    "# a generator function for prime numbers less than 1000.\n",
    "\n",
    "from math import sqrt\n",
    "\n",
    "n = int(input(\"number: \"))\n",
    "def only_prime(n):\n",
    "    \n",
    "    for i in range(2, int(sqrt(n)) +1):\n",
    "        \n",
    "        if n%i == 0:\n",
    "            break\n",
    "        else:\n",
    "            a = n\n",
    "            yield a\n",
    "\n",
    "for i in only_prime(n):\n",
    "    print(i)         \n",
    "       "
   ]
  },
  {
   "cell_type": "code",
   "execution_count": null,
   "id": "aab68f97-b1e2-4943-8779-6c7e76df703c",
   "metadata": {},
   "outputs": [],
   "source": [
    "from math import sqrt\n",
    "\n",
    "n = int(input(\"number: \"))\n",
    "a = True\n",
    "\n",
    "for i in range(2, int(sqrt(n))+1):\n",
    "    if  n == 1:\n",
    "        a = False\n",
    "        break\n",
    "        \n",
    "    if n%i == 0:\n",
    "        a = False\n",
    "        print(\"not prime\")\n",
    "        break\n",
    "    \n",
    "if a == True:\n",
    "    print(n)"
   ]
  },
  {
   "cell_type": "code",
   "execution_count": null,
   "id": "a305282c-8647-41d3-9ae8-fb96c79220a5",
   "metadata": {},
   "outputs": [],
   "source": []
  }
 ],
 "metadata": {
  "kernelspec": {
   "display_name": "Python 3 (ipykernel)",
   "language": "python",
   "name": "python3"
  },
  "language_info": {
   "codemirror_mode": {
    "name": "ipython",
    "version": 3
   },
   "file_extension": ".py",
   "mimetype": "text/x-python",
   "name": "python",
   "nbconvert_exporter": "python",
   "pygments_lexer": "ipython3",
   "version": "3.10.8"
  }
 },
 "nbformat": 4,
 "nbformat_minor": 5
}
