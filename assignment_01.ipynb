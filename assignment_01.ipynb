{
 "cells": [
  {
   "cell_type": "markdown",
   "id": "3b10b426-a0e5-4127-a2ae-0faf29ec2af5",
   "metadata": {},
   "source": [
    "# Assignment 01\n",
    "## tuples, sets and dictionaries"
   ]
  },
  {
   "cell_type": "code",
   "execution_count": 6,
   "id": "0e222bae-a46b-4ea8-8c56-ec86419af071",
   "metadata": {},
   "outputs": [
    {
     "ename": "TypeError",
     "evalue": "'tuple' object does not support item assignment",
     "output_type": "error",
     "traceback": [
      "\u001b[0;31m---------------------------------------------------------------------------\u001b[0m",
      "\u001b[0;31mTypeError\u001b[0m                                 Traceback (most recent call last)",
      "Cell \u001b[0;32mIn[6], line 5\u001b[0m\n\u001b[1;32m      3\u001b[0m t1 \u001b[38;5;241m=\u001b[39m (\u001b[38;5;124m\"\u001b[39m\u001b[38;5;124mabc\u001b[39m\u001b[38;5;124m\"\u001b[39m, \u001b[38;5;241m34\u001b[39m, \u001b[38;5;28;01mTrue\u001b[39;00m, \u001b[38;5;241m40\u001b[39m, \u001b[38;5;124m\"\u001b[39m\u001b[38;5;124mmale\u001b[39m\u001b[38;5;124m\"\u001b[39m)\n\u001b[1;32m      4\u001b[0m t1\n\u001b[0;32m----> 5\u001b[0m \u001b[43mt1\u001b[49m\u001b[43m[\u001b[49m\u001b[38;5;241;43m2\u001b[39;49m\u001b[43m]\u001b[49m \u001b[38;5;241m=\u001b[39m \u001b[38;5;28;01mFalse\u001b[39;00m\n\u001b[1;32m      6\u001b[0m \u001b[38;5;66;03m#item assignment not supported \u001b[39;00m\n",
      "\u001b[0;31mTypeError\u001b[0m: 'tuple' object does not support item assignment"
     ]
    }
   ],
   "source": [
    "# Q.1 \n",
    "# demonstration to depict that tuples are immutable i.e. they cant be modified or altered once defined\n",
    "t1 = (\"abc\", 34, True, 40, \"male\")\n",
    "t1\n",
    "t1[2] = False\n",
    "#item assignment not supported "
   ]
  },
  {
   "cell_type": "code",
   "execution_count": 14,
   "id": "156bd1bd-b88d-4355-833e-623590f88ece",
   "metadata": {},
   "outputs": [
    {
     "name": "stdout",
     "output_type": "stream",
     "text": [
      "3\n",
      "4\n"
     ]
    },
    {
     "data": {
      "text/plain": [
       "8"
      ]
     },
     "execution_count": 14,
     "metadata": {},
     "output_type": "execute_result"
    }
   ],
   "source": [
    "# Q.2\n",
    "# demonstration to depict methods of tuples \n",
    "#count() function\n",
    "tuple1 = (3, 3, 3, 1, 1, True, 5, 7, 9, 3)\n",
    "print(tuple1.count(1))\n",
    "print(tuple1.count(3))\n",
    "#index() function\n",
    "tuple1.index(9)"
   ]
  },
  {
   "cell_type": "code",
   "execution_count": 19,
   "id": "60c4560b-e329-40ad-ac6a-e391ea04b919",
   "metadata": {},
   "outputs": [
    {
     "data": {
      "text/plain": [
       "{1, 2, 3, 4}"
      ]
     },
     "execution_count": 19,
     "metadata": {},
     "output_type": "execute_result"
    }
   ],
   "source": [
    "# Q.3\n",
    "# type conversion of list into set\n",
    "L1 = [1, 1, 1, 2, 1, 3, 1, 4, 2, 1, 2, 2, 2, 3, 2, 4, 3, 1, 3, 2, 3, 3, 3, 4, 4, 1, 4, 2, 4, 3, 4, 4]\n",
    "s1 = set(L1)\n",
    "s1\n"
   ]
  },
  {
   "cell_type": "code",
   "execution_count": 31,
   "id": "2c91f2f3-510a-4a9a-8535-38ba639392cd",
   "metadata": {},
   "outputs": [
    {
     "name": "stdout",
     "output_type": "stream",
     "text": [
      "{'cherry', 'banana', 'apple'}\n",
      "{1, 2, 3, 4, 'apple', 'cherry', 'banana'}\n"
     ]
    }
   ],
   "source": [
    "# Q.4\n",
    "# union returns a copy, and set1 remains unchanged\n",
    "set1 = {\"apple\", \"banana\", \"cherry\"}\n",
    "set2 = {1, 2, 3, 4}\n",
    "new = set1.union(set2)\n",
    "print(set1)\n",
    "print(new)"
   ]
  },
  {
   "cell_type": "code",
   "execution_count": 34,
   "id": "35c432e8-0722-4ede-a735-653bdcda3e8b",
   "metadata": {},
   "outputs": [
    {
     "data": {
      "text/plain": [
       "{1, 2, 3, 4, 5.0, 6.0, 7.0}"
      ]
     },
     "execution_count": 34,
     "metadata": {},
     "output_type": "execute_result"
    }
   ],
   "source": [
    "s2 = {5.0, 6.0, 7.0}\n",
    "s1.update(s2)\n",
    "s1\n"
   ]
  },
  {
   "cell_type": "code",
   "execution_count": 45,
   "id": "7754228f-9824-4436-bf6c-fdd97318b417",
   "metadata": {},
   "outputs": [
    {
     "data": {
      "text/plain": [
       "['black', 'white']"
      ]
     },
     "execution_count": 45,
     "metadata": {},
     "output_type": "execute_result"
    }
   ],
   "source": [
    "# Q.5\n",
    "# exapmple of dictionary\n",
    "#dictionaries are ordered \n",
    "d1 = { \"model\": \"Mustang\", \"brand\": \"Ford\",  \"year\": 1964, \"color\": [\"black\", \"white\"] }\n",
    "d1[\"color\"]\n"
   ]
  },
  {
   "cell_type": "code",
   "execution_count": 46,
   "id": "d5154935-15a0-4275-914c-5247a1e8982d",
   "metadata": {},
   "outputs": [
    {
     "data": {
      "text/plain": [
       "2"
      ]
     },
     "execution_count": 46,
     "metadata": {},
     "output_type": "execute_result"
    }
   ],
   "source": [
    "# Q.6\n",
    "# exapmple of nested dictionary\n",
    "d4 = {\"name\" : [\"alex\", \"jack\", \"will\"], \"id\" : {\"alex\" : 1, \"jack\" : 2, \"will\" : 3}, \"class\" : 10 }\n",
    "d4[\"id\"][\"jack\"]"
   ]
  },
  {
   "cell_type": "code",
   "execution_count": 59,
   "id": "90077b9f-b6f4-4697-a859-88c6a35c61da",
   "metadata": {},
   "outputs": [
    {
     "data": {
      "text/plain": [
       "{'language': 'Python',\n",
       " 'course': 'Data Science Masters',\n",
       " 'topics': ['Python', 'Machine Learning', 'Deep Learning']}"
      ]
     },
     "execution_count": 59,
     "metadata": {},
     "output_type": "execute_result"
    }
   ],
   "source": [
    "# Q.7\n",
    "\n",
    "dict1 = {'language' : 'Python', 'course': 'Data Science Masters'}\n",
    "dict1.setdefault(\"topics\",[\"Python\", \"Machine Learning\", \"Deep Learning\"])\n",
    "\n",
    "dict1"
   ]
  },
  {
   "cell_type": "code",
   "execution_count": 61,
   "id": "db2bedaf-cf2b-407a-9858-57cbfc9f8877",
   "metadata": {},
   "outputs": [
    {
     "data": {
      "text/plain": [
       "dict_keys(['language', 'course'])"
      ]
     },
     "execution_count": 61,
     "metadata": {},
     "output_type": "execute_result"
    }
   ],
   "source": [
    "# Q.8\n",
    "#three view objects are keys(), values() and items()\n",
    "dict1 = {'language' : 'Python', 'course': 'Data Science Masters'}\n",
    "dict1.keys()\n",
    "#returns all the keys"
   ]
  },
  {
   "cell_type": "code",
   "execution_count": 63,
   "id": "b449b5d8-0b54-48b5-9ef3-df90f076789c",
   "metadata": {},
   "outputs": [
    {
     "data": {
      "text/plain": [
       "dict_values(['Python', 'Data Science Masters'])"
      ]
     },
     "execution_count": 63,
     "metadata": {},
     "output_type": "execute_result"
    }
   ],
   "source": [
    "dict1.values()\n",
    "#returns all the values correponding to keys"
   ]
  },
  {
   "cell_type": "code",
   "execution_count": 65,
   "id": "317dccae-6805-4f89-aabb-e921f300466b",
   "metadata": {},
   "outputs": [
    {
     "data": {
      "text/plain": [
       "dict_items"
      ]
     },
     "execution_count": 65,
     "metadata": {},
     "output_type": "execute_result"
    }
   ],
   "source": [
    "d10 =dict1.items()\n",
    "##returns all the key-value pairs inthe form of a list\n",
    "type(dict1.items())"
   ]
  },
  {
   "cell_type": "code",
   "execution_count": null,
   "id": "d5107f93-3116-4942-902b-6a6410d75eb6",
   "metadata": {},
   "outputs": [],
   "source": []
  }
 ],
 "metadata": {
  "kernelspec": {
   "display_name": "Python 3 (ipykernel)",
   "language": "python",
   "name": "python3"
  },
  "language_info": {
   "codemirror_mode": {
    "name": "ipython",
    "version": 3
   },
   "file_extension": ".py",
   "mimetype": "text/x-python",
   "name": "python",
   "nbconvert_exporter": "python",
   "pygments_lexer": "ipython3",
   "version": "3.10.8"
  }
 },
 "nbformat": 4,
 "nbformat_minor": 5
}
